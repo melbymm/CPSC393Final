{
 "cells": [
  {
   "cell_type": "code",
   "execution_count": 52,
   "metadata": {},
   "outputs": [],
   "source": [
    "import pandas as pd\n",
    "import numpy as np\n",
    "import plotly.express as px\n",
    "import matplotlib.pyplot as plt\n",
    "import seaborn as sns\n",
    "from plotnine import *\n",
    "from matplotlib.gridspec import GridSpec\n",
    "from scipy.stats import zscore\n",
    "from sklearn.preprocessing import LabelEncoder\n",
    "from sklearn.model_selection import train_test_split\n",
    "from keras import models, layers, optimizers, losses, metrics\n",
    "from tensorflow.keras import optimizers\n",
    "from sklearn.preprocessing import minmax_scale\n",
    "from sklearn.model_selection import train_test_split as tts\n",
    "from sklearn.preprocessing import StandardScaler\n",
    "import keras.utils\n",
    "from tensorflow.keras import utils as np_utils\n",
    "import tensorflow as tf\n",
    "from keras.layers import Dropout\n",
    "\n",
    "\n",
    "# Allow for outputs from one cell\n",
    "from IPython.core.interactiveshell import InteractiveShell\n",
    "InteractiveShell.ast_node_interactivity = 'all'\n",
    "\n",
    "pd.set_option('display.max_columns', 160)\n",
    "\n",
    "import warnings\n",
    "warnings.filterwarnings('ignore')"
   ]
  },
  {
   "cell_type": "code",
   "execution_count": 53,
   "metadata": {},
   "outputs": [],
   "source": [
    "characteristics = pd.read_csv(\"caracteristiques-2019.csv\")\n",
    "characteristics.name = 'characteristics'\n",
    "places = pd.read_csv(\"lieux-2019.csv\")\n",
    "places.name = 'places'\n",
    "vehicles = pd.read_csv(\"Vehicules-2019.csv\")\n",
    "vehicles.name = 'vehicles'\n",
    "drivers = pd.read_csv(\"usagers-2019.csv\") #not sure why this one was erroring with 'r'\n",
    "drivers.name = 'drivers'"
   ]
  },
  {
   "cell_type": "code",
   "execution_count": 54,
   "metadata": {},
   "outputs": [
    {
     "name": "stdout",
     "output_type": "stream",
     "text": [
      "characteristics : 58840 rows 15 columns\n",
      "places : 58840 rows 18 columns\n",
      "vehicles : 100710 rows 11 columns\n",
      "drivers : 132977 rows 15 columns\n"
     ]
    }
   ],
   "source": [
    "datasets = [characteristics, places, vehicles, drivers]\n",
    "\n",
    "characteristics = characteristics.set_index('Num_Acc')\n",
    "places = places.set_index('Num_Acc')\n",
    "vehicles = vehicles.set_index('id_vehicule')\n",
    "drivers = drivers.set_index('id_vehicule')\n",
    "\n",
    "for df in datasets:\n",
    "    print (df.name,\":\",df.shape[0],\"rows\",df.shape[1],\"columns\")"
   ]
  },
  {
   "cell_type": "code",
   "execution_count": 55,
   "metadata": {},
   "outputs": [],
   "source": [
    "vehicles = vehicles.drop('occutc',axis=1)\n",
    "places = places.drop(['v2','lartpc','larrout'],axis=1)"
   ]
  },
  {
   "cell_type": "code",
   "execution_count": 56,
   "metadata": {},
   "outputs": [],
   "source": [
    "characteristics = characteristics.drop(['an','adr','com'],axis=1)\n",
    "characteristics = characteristics.drop('201900033874',axis=0)\n",
    "#characteristics = characteristics[characteristics['dep']!='2B'] # comment / uncomment\n",
    "#characteristics = characteristics[characteristics['dep']!='2A'] # comment / uncomment\n",
    "#characteristics = characteristics[(characteristics['dep'].astype(float)<100)] # comment / uncomment\n",
    "#places = places.loc[characteristics.index.values] # comment / uncomment\n",
    "places = places.drop('201900033874',axis=0) # comment / uncomment\n",
    "places = places.drop(['v1','vosp','pr','voie'],axis=1)\n",
    "#characteristics = characteristics.drop('A01',axis=0) # comment / uncomment\n",
    "vehicles = vehicles.drop('obs',axis=1)\n",
    "drivers = drivers.drop(['secu3'],axis=1)"
   ]
  },
  {
   "cell_type": "code",
   "execution_count": 57,
   "metadata": {},
   "outputs": [],
   "source": [
    "def encoder(df):\n",
    "    label = LabelEncoder()\n",
    "    for col in df.select_dtypes('object'):\n",
    "        df[col] = df[col].astype('|S')\n",
    "        df[col]=label.fit_transform(df[col])\n",
    "    return df"
   ]
  },
  {
   "cell_type": "code",
   "execution_count": 58,
   "metadata": {},
   "outputs": [],
   "source": [
    "df1 = pd.concat([characteristics, places.reindex(characteristics.index)], axis=1)\n",
    "df2 = pd.concat([drivers, vehicles.reindex(drivers.index)], axis=1)"
   ]
  },
  {
   "cell_type": "code",
   "execution_count": 59,
   "metadata": {},
   "outputs": [],
   "source": [
    "df1 = df1.loc[:,~df1.columns.duplicated()] # Get rid of duplicates\n",
    "df2 = df2.loc[:,~df2.columns.duplicated()]\n",
    "df2.reset_index(drop=True, inplace=True)\n",
    "df2.index = df2['Num_Acc'].astype('str')\n",
    "df2 = df2.drop(['Num_Acc'],axis=1)\n",
    "df = pd.concat([df1.reindex(df2.index),df2],axis=1)\n",
    "df = df.dropna()"
   ]
  },
  {
   "cell_type": "code",
   "execution_count": 60,
   "metadata": {},
   "outputs": [],
   "source": [
    "df = df.reset_index()"
   ]
  },
  {
   "cell_type": "code",
   "execution_count": 61,
   "metadata": {},
   "outputs": [],
   "source": [
    "df = df.head(25000)"
   ]
  },
  {
   "cell_type": "code",
   "execution_count": 62,
   "metadata": {},
   "outputs": [
    {
     "data": {
      "text/plain": [
       "(25000, 40)"
      ]
     },
     "execution_count": 62,
     "metadata": {},
     "output_type": "execute_result"
    }
   ],
   "source": [
    "df.shape"
   ]
  },
  {
   "cell_type": "code",
   "execution_count": 63,
   "metadata": {},
   "outputs": [],
   "source": [
    "df = df.drop(['Num_Acc','mois','lat','long','hrmn','jour','pr1','etatp','actp','locp','trajet','situ','senc','catv','manv','motor'],axis=1)"
   ]
  },
  {
   "cell_type": "code",
   "execution_count": 64,
   "metadata": {},
   "outputs": [],
   "source": [
    "#df_dum.head()"
   ]
  },
  {
   "cell_type": "code",
   "execution_count": 65,
   "metadata": {},
   "outputs": [],
   "source": [
    "df_dum = pd.get_dummies(df,columns=['lum','dep','agg','int','atm','col','catr','circ','prof','plan','infra','num_veh','place','catu','sexe','secu1','secu2','obsm','choc'])"
   ]
  },
  {
   "cell_type": "code",
   "execution_count": 66,
   "metadata": {},
   "outputs": [
    {
     "data": {
      "text/plain": [
       "(25000, 248)"
      ]
     },
     "execution_count": 66,
     "metadata": {},
     "output_type": "execute_result"
    }
   ],
   "source": [
    "df_dum.shape"
   ]
  },
  {
   "cell_type": "markdown",
   "metadata": {},
   "source": []
  },
  {
   "cell_type": "code",
   "execution_count": 67,
   "metadata": {},
   "outputs": [],
   "source": [
    "for col in df_dum.select_dtypes('float'):\n",
    "    df_dum[col] = df_dum[col].astype(int)"
   ]
  },
  {
   "cell_type": "code",
   "execution_count": 68,
   "metadata": {},
   "outputs": [],
   "source": [
    "X, y = df_dum.loc[:, df_dum.columns != 'grav'], df['grav']"
   ]
  },
  {
   "cell_type": "code",
   "execution_count": 69,
   "metadata": {},
   "outputs": [],
   "source": [
    "X_train, X_test, y_train, y_test = train_test_split(X, y, test_size=0.33, random_state=42)"
   ]
  },
  {
   "cell_type": "code",
   "execution_count": 70,
   "metadata": {},
   "outputs": [],
   "source": [
    "X_train = X_train.to_numpy()\n",
    "X_test = X_test.to_numpy()"
   ]
  },
  {
   "cell_type": "code",
   "execution_count": 71,
   "metadata": {},
   "outputs": [
    {
     "data": {
      "text/plain": [
       "(16750,)"
      ]
     },
     "execution_count": 71,
     "metadata": {},
     "output_type": "execute_result"
    }
   ],
   "source": [
    "y_train.shape"
   ]
  },
  {
   "cell_type": "code",
   "execution_count": 72,
   "metadata": {},
   "outputs": [],
   "source": [
    "def vectorize_sequences(sequences, dimension=10000):\n",
    "    results = np.zeros((len(sequences), dimension))\n",
    "    for i, sequence in enumerate(sequences):\n",
    "        #print(i, sequence)\n",
    "        results[i, sequence] = 1.\n",
    "    return results"
   ]
  },
  {
   "cell_type": "code",
   "execution_count": 73,
   "metadata": {},
   "outputs": [],
   "source": [
    "X_train = vectorize_sequences(X_train)\n",
    "X_test = vectorize_sequences(X_test)"
   ]
  },
  {
   "cell_type": "code",
   "execution_count": 74,
   "metadata": {},
   "outputs": [],
   "source": [
    "one_hot_train_labels = np_utils.to_categorical(y_train)\n",
    "one_hot_test_labels = np_utils.to_categorical(y_test)"
   ]
  },
  {
   "cell_type": "code",
   "execution_count": 181,
   "metadata": {},
   "outputs": [],
   "source": [
    "model = models.Sequential()\n",
    "#model.add(Dropout(0.3))\n",
    "model.add(layers.Dense(64, activation = 'relu',input_shape=(10000,)))\n",
    "#model.add(Dropout(0.3))\n",
    "model.add(layers.Dense(64, activation = 'relu'))\n",
    "#model.add(Dropout(0.3))\n",
    "\n",
    "model.add(layers.Dense(5, activation='sigmoid'))"
   ]
  },
  {
   "cell_type": "code",
   "execution_count": 182,
   "metadata": {},
   "outputs": [],
   "source": [
    "model.compile(optimizer='rmsprop',loss='categorical_crossentropy',metrics=['accuracy'])"
   ]
  },
  {
   "cell_type": "code",
   "execution_count": 183,
   "metadata": {},
   "outputs": [],
   "source": [
    "x_val = X_train[:1000]\n",
    "partial_x_train = X_train[1000:]\n",
    "y_val = one_hot_train_labels[:1000]\n",
    "partial_y_train = one_hot_train_labels[1000:]"
   ]
  },
  {
   "cell_type": "code",
   "execution_count": 184,
   "metadata": {},
   "outputs": [
    {
     "data": {
      "text/plain": [
       "(16750, 10000)"
      ]
     },
     "execution_count": 184,
     "metadata": {},
     "output_type": "execute_result"
    }
   ],
   "source": [
    "X_train.shape"
   ]
  },
  {
   "cell_type": "code",
   "execution_count": 185,
   "metadata": {},
   "outputs": [
    {
     "data": {
      "text/plain": [
       "(1000, 10000)"
      ]
     },
     "execution_count": 185,
     "metadata": {},
     "output_type": "execute_result"
    }
   ],
   "source": [
    "x_val.shape"
   ]
  },
  {
   "cell_type": "code",
   "execution_count": 186,
   "metadata": {},
   "outputs": [
    {
     "data": {
      "text/plain": [
       "(1000, 5)"
      ]
     },
     "execution_count": 186,
     "metadata": {},
     "output_type": "execute_result"
    }
   ],
   "source": [
    "y_val.shape"
   ]
  },
  {
   "cell_type": "code",
   "execution_count": 187,
   "metadata": {},
   "outputs": [
    {
     "data": {
      "text/plain": [
       "(15750, 10000)"
      ]
     },
     "execution_count": 187,
     "metadata": {},
     "output_type": "execute_result"
    }
   ],
   "source": [
    "partial_x_train.shape"
   ]
  },
  {
   "cell_type": "code",
   "execution_count": 188,
   "metadata": {},
   "outputs": [
    {
     "data": {
      "text/plain": [
       "(15750, 5)"
      ]
     },
     "execution_count": 188,
     "metadata": {},
     "output_type": "execute_result"
    }
   ],
   "source": [
    "partial_y_train.shape"
   ]
  },
  {
   "cell_type": "code",
   "execution_count": 189,
   "metadata": {},
   "outputs": [
    {
     "name": "stdout",
     "output_type": "stream",
     "text": [
      "Epoch 1/20\n",
      "493/493 [==============================] - 4s 7ms/step - loss: 1.1033 - accuracy: 0.4283 - val_loss: 1.0626 - val_accuracy: 0.4130\n",
      "Epoch 2/20\n",
      "493/493 [==============================] - 3s 6ms/step - loss: 1.0706 - accuracy: 0.4493 - val_loss: 1.0475 - val_accuracy: 0.4690\n",
      "Epoch 3/20\n",
      "493/493 [==============================] - 3s 6ms/step - loss: 1.0655 - accuracy: 0.4526 - val_loss: 1.0533 - val_accuracy: 0.4560\n",
      "Epoch 4/20\n",
      "493/493 [==============================] - 3s 6ms/step - loss: 1.0616 - accuracy: 0.4643 - val_loss: 1.0601 - val_accuracy: 0.4540\n",
      "Epoch 5/20\n",
      "493/493 [==============================] - 3s 6ms/step - loss: 1.0597 - accuracy: 0.4610 - val_loss: 1.0492 - val_accuracy: 0.4540\n",
      "Epoch 6/20\n",
      "493/493 [==============================] - 3s 6ms/step - loss: 1.0569 - accuracy: 0.4679 - val_loss: 1.0423 - val_accuracy: 0.4760\n",
      "Epoch 7/20\n",
      "493/493 [==============================] - 3s 6ms/step - loss: 1.0552 - accuracy: 0.4685 - val_loss: 1.0487 - val_accuracy: 0.4600\n",
      "Epoch 8/20\n",
      "493/493 [==============================] - 3s 6ms/step - loss: 1.0521 - accuracy: 0.4734 - val_loss: 1.0492 - val_accuracy: 0.4650\n",
      "Epoch 9/20\n",
      "493/493 [==============================] - 3s 7ms/step - loss: 1.0507 - accuracy: 0.4744 - val_loss: 1.0449 - val_accuracy: 0.4810\n",
      "Epoch 10/20\n",
      "493/493 [==============================] - 3s 6ms/step - loss: 1.0483 - accuracy: 0.4811 - val_loss: 1.0571 - val_accuracy: 0.4650\n",
      "Epoch 11/20\n",
      "493/493 [==============================] - 3s 6ms/step - loss: 1.0467 - accuracy: 0.4782 - val_loss: 1.0560 - val_accuracy: 0.4520\n",
      "Epoch 12/20\n",
      "493/493 [==============================] - 3s 6ms/step - loss: 1.0448 - accuracy: 0.4813 - val_loss: 1.0567 - val_accuracy: 0.4750\n",
      "Epoch 13/20\n",
      "493/493 [==============================] - 3s 6ms/step - loss: 1.0421 - accuracy: 0.4834 - val_loss: 1.0534 - val_accuracy: 0.4690\n",
      "Epoch 14/20\n",
      "493/493 [==============================] - 3s 6ms/step - loss: 1.0412 - accuracy: 0.4888 - val_loss: 1.0625 - val_accuracy: 0.4510\n",
      "Epoch 15/20\n",
      "493/493 [==============================] - 3s 6ms/step - loss: 1.0383 - accuracy: 0.4898 - val_loss: 1.0632 - val_accuracy: 0.4680\n",
      "Epoch 16/20\n",
      "493/493 [==============================] - 3s 6ms/step - loss: 1.0371 - accuracy: 0.4881 - val_loss: 1.0696 - val_accuracy: 0.4540\n",
      "Epoch 17/20\n",
      "493/493 [==============================] - 3s 6ms/step - loss: 1.0352 - accuracy: 0.4921 - val_loss: 1.0634 - val_accuracy: 0.4670\n",
      "Epoch 18/20\n",
      "493/493 [==============================] - 3s 6ms/step - loss: 1.0335 - accuracy: 0.4945 - val_loss: 1.0728 - val_accuracy: 0.4560\n",
      "Epoch 19/20\n",
      "493/493 [==============================] - 3s 6ms/step - loss: 1.0313 - accuracy: 0.4941 - val_loss: 1.0601 - val_accuracy: 0.4660\n",
      "Epoch 20/20\n",
      "493/493 [==============================] - 3s 6ms/step - loss: 1.0298 - accuracy: 0.4980 - val_loss: 1.0631 - val_accuracy: 0.4610\n"
     ]
    }
   ],
   "source": [
    "history = model.fit(partial_x_train,\n",
    "partial_y_train,\n",
    "epochs=20,\n",
    "batch_size=32,\n",
    "validation_data=(x_val, y_val))"
   ]
  },
  {
   "cell_type": "code",
   "execution_count": 190,
   "metadata": {},
   "outputs": [
    {
     "data": {
      "text/plain": [
       "[<matplotlib.lines.Line2D at 0x1e6f3c87b48>]"
      ]
     },
     "execution_count": 190,
     "metadata": {},
     "output_type": "execute_result"
    },
    {
     "data": {
      "text/plain": [
       "[<matplotlib.lines.Line2D at 0x1e6f3ccda08>]"
      ]
     },
     "execution_count": 190,
     "metadata": {},
     "output_type": "execute_result"
    },
    {
     "data": {
      "text/plain": [
       "Text(0.5, 1.0, 'Training and validation loss')"
      ]
     },
     "execution_count": 190,
     "metadata": {},
     "output_type": "execute_result"
    },
    {
     "data": {
      "text/plain": [
       "Text(0.5, 0, 'Epochs')"
      ]
     },
     "execution_count": 190,
     "metadata": {},
     "output_type": "execute_result"
    },
    {
     "data": {
      "text/plain": [
       "Text(0, 0.5, 'Loss')"
      ]
     },
     "execution_count": 190,
     "metadata": {},
     "output_type": "execute_result"
    },
    {
     "data": {
      "text/plain": [
       "<matplotlib.legend.Legend at 0x1e6f1734e08>"
      ]
     },
     "execution_count": 190,
     "metadata": {},
     "output_type": "execute_result"
    },
    {
     "data": {
      "image/png": "[encoded data removed]",
      "text/plain": [
       "<Figure size 432x288 with 1 Axes>"
      ]
     },
     "metadata": {
      "needs_background": "light"
     },
     "output_type": "display_data"
    }
   ],
   "source": [
    "loss = history.history['loss']\n",
    "val_loss = history.history['val_loss']\n",
    "epochs = range(1, len(loss) + 1)\n",
    "\n",
    "plt.plot(epochs, loss, 'bo', label='Training loss')\n",
    "plt.plot(epochs, val_loss, 'b', label='Validation loss')\n",
    "plt.title('Training and validation loss')\n",
    "plt.xlabel('Epochs')\n",
    "plt.ylabel('Loss')\n",
    "plt.legend()\n",
    "plt.show()"
   ]
  },
  {
   "cell_type": "code",
   "execution_count": 191,
   "metadata": {},
   "outputs": [
    {
     "data": {
      "text/plain": [
       "[<matplotlib.lines.Line2D at 0x1e6f53f4d48>]"
      ]
     },
     "execution_count": 191,
     "metadata": {},
     "output_type": "execute_result"
    },
    {
     "data": {
      "text/plain": [
       "[<matplotlib.lines.Line2D at 0x1e6f0969c08>]"
      ]
     },
     "execution_count": 191,
     "metadata": {},
     "output_type": "execute_result"
    },
    {
     "data": {
      "text/plain": [
       "Text(0.5, 1.0, 'Training and validation accuracy')"
      ]
     },
     "execution_count": 191,
     "metadata": {},
     "output_type": "execute_result"
    },
    {
     "data": {
      "text/plain": [
       "Text(0.5, 0, 'Epochs')"
      ]
     },
     "execution_count": 191,
     "metadata": {},
     "output_type": "execute_result"
    },
    {
     "data": {
      "text/plain": [
       "Text(0, 0.5, 'Loss')"
      ]
     },
     "execution_count": 191,
     "metadata": {},
     "output_type": "execute_result"
    },
    {
     "data": {
      "text/plain": [
       "<matplotlib.legend.Legend at 0x1e6f4d68f08>"
      ]
     },
     "execution_count": 191,
     "metadata": {},
     "output_type": "execute_result"
    },
    {
     "data": {
      "image/png": "[encoded data removed]",
      "text/plain": [
       "<Figure size 432x288 with 1 Axes>"
      ]
     },
     "metadata": {
      "needs_background": "light"
     },
     "output_type": "display_data"
    }
   ],
   "source": [
    "plt.clf()\n",
    "acc = history.history['accuracy']\n",
    "val_acc = history.history['val_accuracy']\n",
    "\n",
    "plt.plot(epochs, acc, 'bo', label='Training acc')\n",
    "plt.plot(epochs, val_acc, 'b', label='Validation acc')\n",
    "plt.title('Training and validation accuracy')\n",
    "plt.xlabel('Epochs')\n",
    "plt.ylabel('Loss')\n",
    "plt.legend()\n",
    "plt.show()"
   ]
  },
  {
   "cell_type": "code",
   "execution_count": 192,
   "metadata": {},
   "outputs": [
    {
     "data": {
      "text/plain": [
       "\"from sklearn import svm\\n\\n#Create a svm Classifier\\nclf = svm.SVC(kernel='linear') # Linear Kernel\\n\\n#Train the model using the training sets\\nclf.fit(X_train, y_train)\\n\\n#Predict the response for test dataset\\ny_pred = clf.predict(X_test)\""
      ]
     },
     "execution_count": 192,
     "metadata": {},
     "output_type": "execute_result"
    }
   ],
   "source": [
    "'''from sklearn import svm\n",
    "\n",
    "#Create a svm Classifier\n",
    "clf = svm.SVC(kernel='linear') # Linear Kernel\n",
    "\n",
    "#Train the model using the training sets\n",
    "clf.fit(X_train, y_train)\n",
    "\n",
    "#Predict the response for test dataset\n",
    "y_pred = clf.predict(X_test)'''"
   ]
  },
  {
   "cell_type": "code",
   "execution_count": 193,
   "metadata": {},
   "outputs": [
    {
     "data": {
      "text/plain": [
       "'from sklearn import metrics\\n\\n# Model Accuracy: how often is the classifier correct?\\nprint(\"Accuracy:\",metrics.accuracy_score(y_test, y_pred))'"
      ]
     },
     "execution_count": 193,
     "metadata": {},
     "output_type": "execute_result"
    }
   ],
   "source": [
    "'''from sklearn import metrics\n",
    "\n",
    "# Model Accuracy: how often is the classifier correct?\n",
    "print(\"Accuracy:\",metrics.accuracy_score(y_test, y_pred))'''"
   ]
  }
 ],
 "metadata": {
  "interpreter": {
   "hash": "9fb43ff67f9ef78f9f053072c4d4733f76b87c9a36b46c5dbec9eb9b61e91c12"
  },
  "kernelspec": {
   "display_name": "Python 3.7.9 64-bit",
   "name": "python3"
  },
  "language_info": {
   "codemirror_mode": {
    "name": "ipython",
    "version": 3
   },
   "file_extension": ".py",
   "mimetype": "text/x-python",
   "name": "python",
   "nbconvert_exporter": "python",
   "pygments_lexer": "ipython3",
   "version": "3.7.9"
  },
  "orig_nbformat": 4
 },
 "nbformat": 4,
 "nbformat_minor": 2
}
